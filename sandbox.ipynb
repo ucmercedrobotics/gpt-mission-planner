{
 "cells": [
  {
   "cell_type": "code",
   "execution_count": 4,
   "metadata": {},
   "outputs": [],
   "source": [
    "from lxml import etree\n",
    "from dotenv import load_dotenv \n",
    "from openai import OpenAI"
   ]
  },
  {
   "cell_type": "code",
   "execution_count": null,
   "metadata": {},
   "outputs": [],
   "source": [
    "# Read XSD from 1872.1-2024\n",
    "with open('app/resources/context/wheeled_bots/schema.xsd', 'r') as file:\n",
    "    schema = file.read()"
   ]
  },
  {
   "cell_type": "code",
   "execution_count": null,
   "metadata": {},
   "outputs": [],
   "source": [
    "# Read XSD from 1872.1-2024\n",
    "with open('app/resources/context/wheeled_bots/reza_medium.geojson', 'r') as file:\n",
    "    geojson = file.read()"
   ]
  },
  {
   "cell_type": "code",
   "execution_count": null,
   "metadata": {},
   "outputs": [],
   "source": [
    "# global environment config\n",
    "load_dotenv('/Users/marcos/.gpt/token.env')\n",
    "MAX_TOKENS: int = 2000"
   ]
  },
  {
   "cell_type": "code",
   "execution_count": null,
   "metadata": {},
   "outputs": [],
   "source": [
    "client = OpenAI()"
   ]
  },
  {
   "cell_type": "code",
   "execution_count": null,
   "metadata": {},
   "outputs": [],
   "source": [
    "messages = [\n",
    "    {\n",
    "        \"role\": \"system\",\n",
    "        \"content\": \"You are a mission planner that generates XML mission plans based on robotic task representation. \\\n",
    "            When asked to generate a mission, create an XML file conformant to the known schema and use the GeoJSON file to provide references in the mission plan for things such as GPS location, tree type, etc. \\\n",
    "            It must be syntactically correct and validate using an XML linter.\",\n",
    "    },\n",
    "    # context\n",
    "    {\n",
    "        \"role\": \"user\",\n",
    "        \"content\": \"This is the schema for which you must generate mission plan XML documents:\" + schema\n",
    "    },\n",
    "    {\n",
    "        \"role\": \"assistant\",\n",
    "        \"content\": \"If you have any specific questions or modifications you'd like to discuss regarding this schema, feel free to ask!\"\n",
    "    },\n",
    "    {\n",
    "        \"role\": \"user\",\n",
    "        \"content\": \"This is the GeoJSON for which you must generate mission plan XML documents. This is our orchard:\" + geojson\n",
    "    },\n",
    "    {\n",
    "        \"role\": \"assistant\",\n",
    "        \"content\": \"Thank you for providing the GeoJSON file. I'll assist you in creating the XML file for your robotic mission plan when you provide your mission.\"\n",
    "    },\n",
    "    # TODO: add context of farm layout so that machine can generate XML with relevant state information\n",
    "]"
   ]
  },
  {
   "cell_type": "code",
   "execution_count": null,
   "metadata": {},
   "outputs": [],
   "source": [
    "m = \"Make a plan to take a picture of every other pistachio tree.\"\n",
    "message = {\"role\": \"user\", \"content\": m}"
   ]
  },
  {
   "cell_type": "code",
   "execution_count": null,
   "metadata": {},
   "outputs": [],
   "source": [
    "messages.append(message)"
   ]
  },
  {
   "cell_type": "code",
   "execution_count": null,
   "metadata": {},
   "outputs": [],
   "source": [
    "def ask_gpt(messages):\n",
    "    return client.chat.completions.create(\n",
    "        model=\"gpt-4o\", messages=messages, max_tokens=MAX_TOKENS\n",
    "    )"
   ]
  },
  {
   "cell_type": "code",
   "execution_count": null,
   "metadata": {},
   "outputs": [],
   "source": [
    "completion = ask_gpt(messages)"
   ]
  },
  {
   "cell_type": "code",
   "execution_count": null,
   "metadata": {},
   "outputs": [],
   "source": [
    "with open('output.txt', 'w') as fp:\n",
    "    fp.write(completion.choices[0].message.content)"
   ]
  },
  {
   "cell_type": "code",
   "execution_count": null,
   "metadata": {},
   "outputs": [],
   "source": [
    "gpt_response = completion.choices[0].message.content\n",
    "\n",
    "xml_response = gpt_response.split(\"```xml\\n\")[1]\n",
    "xml_response = xml_response.split(\"```\")[0]"
   ]
  },
  {
   "cell_type": "code",
   "execution_count": null,
   "metadata": {},
   "outputs": [],
   "source": [
    "with open('app/gpt_outputs/gpt_example.xml', 'w') as fp:\n",
    "    fp.write(xml_response)"
   ]
  },
  {
   "cell_type": "code",
   "execution_count": 5,
   "metadata": {},
   "outputs": [],
   "source": [
    "def validate_xml(xsd_file, xml_file) -> str:\n",
    "    try:\n",
    "        # Parse the XSD file\n",
    "        with open(xsd_file, 'rb') as schema_file:\n",
    "            schema_root = etree.XML(schema_file.read())\n",
    "        schema = etree.XMLSchema(schema_root)\n",
    "\n",
    "        # Parse the XML file\n",
    "        with open(xml_file, 'rb') as xml_file:\n",
    "            xml_doc = etree.parse(xml_file)\n",
    "\n",
    "        # Validate the XML file against the XSD schema\n",
    "        schema.assertValid(xml_doc)\n",
    "        return \"XML is valid.\"\n",
    "\n",
    "    except etree.XMLSchemaError as e:\n",
    "        return \"XML is invalid: \" + str(e)\n",
    "    except Exception as e:\n",
    "        return \"An error occurred: \" + str(e)"
   ]
  },
  {
   "cell_type": "code",
   "execution_count": null,
   "metadata": {},
   "outputs": [],
   "source": [
    "# messages.append(gpt_response)\n",
    "# Example usage\n",
    "xsd_file = 'app/resources/context/wheeled_bots/schema.xsd'\n",
    "xml_file = 'app/gpt_outputs/gpt_example.xml'\n",
    "ret = validate_xml(xsd_file, xml_file)\n",
    "print(ret)\n",
    "# messages.append(ret)"
   ]
  },
  {
   "cell_type": "code",
   "execution_count": 37,
   "metadata": {},
   "outputs": [],
   "source": [
    "def location(xml_file):\n",
    "    with open(xml_file, \"rb\") as fp:\n",
    "        xml_doc: etree._ElementTree = etree.parse(fp)\n",
    "\n",
    "    root: etree._Element = xml_doc.getroot()\n",
    "    xsi = root.nsmap['xsi']\n",
    "    location = root.attrib['{' + xsi + \"}schemaLocation\"]\n",
    "    return location.split(root.nsmap[None] + \" \")[1]"
   ]
  },
  {
   "cell_type": "code",
   "execution_count": null,
   "metadata": {},
   "outputs": [],
   "source": [
    "# Example usage\n",
    "xml_file = 'app/gpt_outputs/gpt_example.xml'\n",
    "ret = location(xml_file)\n",
    "print(ret)\n",
    "# messages.append(ret)"
   ]
  },
  {
   "cell_type": "markdown",
   "metadata": {},
   "source": [
    "## GeoJSON"
   ]
  },
  {
   "cell_type": "code",
   "execution_count": null,
   "metadata": {},
   "outputs": [],
   "source": [
    "text: str = (\n",
    "    \"\"\"\n",
    "{ \n",
    "\"type\": \"FeatureCollection\",\n",
    "\"features\": [\n",
    "    \"\"\"\n",
    ")\n",
    "\n",
    "gps: str = (\n",
    "    \"\"\"\n",
    "    {{\n",
    "      \"type\": \"Feature\",\n",
    "      \"geometry\": {{\n",
    "        \"type\": \"Point\",\n",
    "        \"coordinates\": [{}, {}]\n",
    "      }},\n",
    "      \"properties\": {{\n",
    "        \"marker-symbol\": \"{}-tree\"\n",
    "      }}\n",
    "    }},\"\"\"\n",
    ")\n",
    "\n",
    "tree_type: str = \"pistachio\"\n",
    "i = 0\n",
    "dir = True\n",
    "tree_num = 0\n",
    "\n",
    "for gps_coord in coors:\n",
    "    out = gps.format(gps_coord[0], gps_coord[1], tree_type)\n",
    "    text += out\n",
    "    i += 1\n",
    "\n",
    "# with open(\"resources/reza_waypoints.txt\", \"r\") as fp:\n",
    "#     for line in fp.readlines():\n",
    "#         gps_coord = line.split(\" \")\n",
    "#         # only want trees\n",
    "#         if gps_coord[2] == 0:\n",
    "#             continue\n",
    "#         if i % 18 == 0:\n",
    "#             dir = ~dir\n",
    "#             tree_num -= 18\n",
    "#         out = gps.format(gps_coord[0], gps_coord[1], tree_type)\n",
    "#         text += out\n",
    "#         i += 1\n",
    "\n",
    "# remove last comma\n",
    "text = text[:-1]\n",
    "text += \"\"\"  \n",
    "  ]\n",
    "}\n",
    "\"\"\"\n",
    "\n",
    "with open(\"app/resources/context/wheeled_bots/ucm20_2m.geojson\", \"w\") as fp:\n",
    "    fp.write(text)"
   ]
  },
  {
   "cell_type": "markdown",
   "metadata": {},
   "source": [
    "## scratchpad"
   ]
  },
  {
   "cell_type": "code",
   "execution_count": null,
   "metadata": {},
   "outputs": [],
   "source": [
    "import utm\n",
    "import json\n",
    "import geopy.distance\n",
    "import haversine"
   ]
  },
  {
   "cell_type": "code",
   "execution_count": null,
   "metadata": {},
   "outputs": [],
   "source": [
    "geojson_data = {}\n",
    "with open(\"app/resources/context/wheeled_bots/ucm_graph20.geojsonl\", \"r\") as fp:\n",
    "    for line in fp:\n",
    "        data = json.loads(line.strip())\n",
    "        geojson_data[data['properties']['id']] = data"
   ]
  },
  {
   "cell_type": "code",
   "execution_count": null,
   "metadata": {},
   "outputs": [],
   "source": [
    "sol = [0, 2, 7, 18, 19]\n",
    "# sol = [0, 2, 15, 18, 29]\n",
    "# sol = [0, 7, 25, 36, 39]\n",
    "cost = 0\n",
    "for s in range(len(sol)-1):\n",
    "    lon1, lat1 = geojson_data[sol[s]]['geometry']['coordinates']\n",
    "    lon2, lat2 = geojson_data[sol[s+1]]['geometry']['coordinates']\n",
    "    # cost += geopy.distance.distance((lat1, lon1), (lat2, lon2)).meters\n",
    "    cost += haversine.haversine((lat1, lon1), (lat2, lon2), unit=haversine.Unit.METERS)"
   ]
  },
  {
   "cell_type": "markdown",
   "metadata": {},
   "source": [
    "budget: 19.9773073572487"
   ]
  },
  {
   "cell_type": "code",
   "execution_count": null,
   "metadata": {},
   "outputs": [],
   "source": [
    "cost"
   ]
  },
  {
   "cell_type": "code",
   "execution_count": null,
   "metadata": {},
   "outputs": [],
   "source": [
    "lon1, lat1 = geojson_data[19]['geometry']['coordinates']\n",
    "lon2, lat2 = geojson_data[18]['geometry']['coordinates']\n",
    "geopy.distance.distance((lat1, lon1), (lat2, lon2)).meters"
   ]
  },
  {
   "cell_type": "code",
   "execution_count": null,
   "metadata": {},
   "outputs": [],
   "source": [
    "13.686394049112627 * (2/1.3694051976193413)"
   ]
  },
  {
   "cell_type": "markdown",
   "metadata": {},
   "source": [
    "## GPS conversion"
   ]
  },
  {
   "cell_type": "code",
   "execution_count": null,
   "metadata": {},
   "outputs": [],
   "source": [
    "from lxml import etree\n",
    "import matplotlib.pyplot as plt\n",
    "import numpy as np\n",
    "import utm"
   ]
  },
  {
   "cell_type": "code",
   "execution_count": null,
   "metadata": {},
   "outputs": [],
   "source": [
    "with open(\"app/resources/context/wheeled_bots/kml/graph20.kml\", \"rb\") as fp:\n",
    "    root = etree.parse(fp)"
   ]
  },
  {
   "cell_type": "code",
   "execution_count": null,
   "metadata": {},
   "outputs": [],
   "source": [
    "root_e: etree._Element = root.getroot()"
   ]
  },
  {
   "cell_type": "code",
   "execution_count": null,
   "metadata": {},
   "outputs": [],
   "source": [
    "ns = \"{\" + root_e.nsmap[None] + \"}\""
   ]
  },
  {
   "cell_type": "code",
   "execution_count": null,
   "metadata": {},
   "outputs": [],
   "source": [
    "pms = root_e.find(ns + \"Document\").findall(ns + \"Placemark\")"
   ]
  },
  {
   "cell_type": "code",
   "execution_count": null,
   "metadata": {},
   "outputs": [],
   "source": [
    "coors = []\n",
    "for pm in pms:\n",
    "    coor = pm.find(ns + \"Point\").find(ns + \"coordinates\").text.split(',')\n",
    "    coor = [float(c) for c in coor]\n",
    "    # print(coor[1])\n",
    "    # e, n, _, _ = utm.from_latlon(coor[1], coor[0])\n",
    "    e = coor[0]\n",
    "    n = coor[1]\n",
    "\n",
    "    coors.append((e, n))"
   ]
  },
  {
   "cell_type": "code",
   "execution_count": null,
   "metadata": {},
   "outputs": [],
   "source": [
    "path = []\n",
    "with open('path.txt', 'r') as fp:\n",
    "    for f in fp:\n",
    "        coor = f.split(',')\n",
    "        coor = [float(c) for c in coor]\n",
    "        e, n, _, _ = utm.from_latlon(coor[1], coor[0])\n",
    "\n",
    "        path.append((e, n))"
   ]
  },
  {
   "cell_type": "code",
   "execution_count": null,
   "metadata": {},
   "outputs": [],
   "source": [
    "def add_arrow(line, position=None, direction='right', size=15, color=None):\n",
    "    \"\"\"\n",
    "    add an arrow to a line.\n",
    "\n",
    "    line:       Line2D object\n",
    "    position:   x-position of the arrow. If None, mean of xdata is taken\n",
    "    direction:  'left' or 'right'\n",
    "    size:       size of the arrow in fontsize points\n",
    "    color:      if None, line color is taken.\n",
    "    \"\"\"\n",
    "    if color is None:\n",
    "        color = line.get_color()\n",
    "\n",
    "    xdata = line.get_xdata()\n",
    "    ydata = line.get_ydata()\n",
    "\n",
    "    if position is None:\n",
    "        position = xdata.mean()\n",
    "    # find closest index\n",
    "    # start_ind = np.argmin(np.absolute(xdata - position))\n",
    "    start_ind = 0\n",
    "    if direction == 'right':\n",
    "        end_ind = start_ind + 1\n",
    "    else:\n",
    "        end_ind = start_ind - 1\n",
    "\n",
    "    line.axes.annotate('',\n",
    "        xytext=(xdata[start_ind], ydata[start_ind]),\n",
    "        xy=(xdata[end_ind], ydata[end_ind]),\n",
    "        arrowprops=dict(arrowstyle=\"->\", color=color),\n",
    "        size=size\n",
    "    )"
   ]
  },
  {
   "cell_type": "code",
   "execution_count": null,
   "metadata": {},
   "outputs": [],
   "source": [
    "coors = np.array(coors)\n",
    "path = np.array(path)\n",
    "\n",
    "img = plt.imread(\"app/resources/context/wheeled_bots/images/img.png\")\n",
    "fig, ax = plt.subplots()\n",
    "\n",
    "# ax.imshow(img, extent=[-0.1, 1, -0.3, 1.25])\n",
    "ax.imshow(img, extent=[np.min(coors[:,0])-0.75, np.max(coors[:,0])+1, np.min(coors[:,1])-0.5, np.max(coors[:,1])+0.5])\n",
    "# ax.imshow(img, extent=[np.min(coors[:,0]), np.max(coors[:,0]), np.min(coors[:,1]), np.max(coors[:,1])])\n",
    "# weights = np.arange(0, len(path[20:-29,0]))\n",
    "for i in range(26, len(path)-11, 1):\n",
    "    line = plt.plot(path[i:i+2,0], path[i:i+2,1], 'black')[0]\n",
    "    if i % 4 == 0:\n",
    "        add_arrow(line, direction='left', color='black', size=20, position=0)\n",
    "plt.scatter(x = coors[0,0], y = coors[0,1], color='green')\n",
    "plt.scatter(x = coors[1:-1,0], y = coors[1:-1,1], color='blue')\n",
    "plt.scatter(x = coors[-1,0], y = coors[-1,1], color='red')\n",
    "plt.axis('off')\n",
    "# plt.show()\n",
    "plt.savefig(\"test.png\",bbox_inches='tight', pad_inches=0.0)"
   ]
  },
  {
   "cell_type": "markdown",
   "metadata": {},
   "source": [
    "## YOLOv8"
   ]
  },
  {
   "cell_type": "code",
   "execution_count": null,
   "metadata": {},
   "outputs": [],
   "source": [
    "import cv2\n",
    "from ultralytics import YOLO\n",
    "import webcolors\n",
    "import numpy as np"
   ]
  },
  {
   "cell_type": "code",
   "execution_count": null,
   "metadata": {},
   "outputs": [],
   "source": [
    "# Function to get class colors\n",
    "def getColours(cls_num):\n",
    "    base_colors = [(255, 0, 0), (0, 255, 0), (0, 0, 255)]\n",
    "    color_index = cls_num % len(base_colors)\n",
    "    increments = [(1, -2, 1), (-2, 1, -1), (1, -1, 2)]\n",
    "    color = [base_colors[color_index][i] + increments[color_index][i] * \n",
    "    (cls_num // len(base_colors)) % 256 for i in range(3)]\n",
    "    return tuple(color)"
   ]
  },
  {
   "cell_type": "code",
   "execution_count": null,
   "metadata": {},
   "outputs": [],
   "source": [
    "def closest_color(requested_color):\n",
    "    min_colors = {}\n",
    "    for name in webcolors.names(\"css3\"):\n",
    "        r_c, g_c, b_c = webcolors.name_to_rgb(name)\n",
    "        distance = ((r_c - requested_color[0]) ** 2 +\n",
    "                    (g_c - requested_color[1]) ** 2 +\n",
    "                    (b_c - requested_color[2]) ** 2)\n",
    "        min_colors[distance] = name\n",
    "    return min_colors[min(min_colors.keys())]"
   ]
  },
  {
   "cell_type": "code",
   "execution_count": null,
   "metadata": {},
   "outputs": [],
   "source": [
    "def rgb_to_name(rgb):\n",
    "    try:\n",
    "        return webcolors.rgb_to_name(rgb)\n",
    "    except ValueError:\n",
    "        return closest_color(rgb)"
   ]
  },
  {
   "cell_type": "code",
   "execution_count": null,
   "metadata": {},
   "outputs": [],
   "source": [
    "yolo = YOLO('yolov8s.pt')"
   ]
  },
  {
   "cell_type": "code",
   "execution_count": null,
   "metadata": {},
   "outputs": [],
   "source": [
    "videoCap = cv2.VideoCapture(0)"
   ]
  },
  {
   "cell_type": "code",
   "execution_count": null,
   "metadata": {},
   "outputs": [],
   "source": [
    "while True:\n",
    "    ret, frame = videoCap.read()\n",
    "    if not ret:\n",
    "        continue\n",
    "    results = yolo.track(frame, stream=True)\n",
    "\n",
    "\n",
    "    for result in results:\n",
    "        # get the classes names\n",
    "        classes_names = result.names\n",
    "    \n",
    "    # iterate over each box\n",
    "        for box in result.boxes:\n",
    "            # check if confidence is greater than 40 percent\n",
    "            if box.conf[0] > 0.4:\n",
    "                # get coordinates\n",
    "                [x1, y1, x2, y2] = box.xyxy[0]\n",
    "                # convert to int\n",
    "                x1, y1, x2, y2 = int(x1), int(y1), int(x2), int(y2)\n",
    "\n",
    "                # get the class\n",
    "                cls = int(box.cls[0])\n",
    "\n",
    "                # get the class name\n",
    "                class_name = classes_names[cls]\n",
    "\n",
    "                # get the respective colour\n",
    "                colour = getColours(cls)\n",
    "\n",
    "                # draw the rectangle\n",
    "                cv2.rectangle(frame, (x1, y1), (x2, y2), colour, 2)\n",
    "\n",
    "                roi = frame[y1:y2, x1:x2]\n",
    "\n",
    "                average_color = np.mean(roi, axis=(0, 1))  # [R, G, B]\n",
    "                color_name = rgb_to_name(tuple(map(int, average_color)))\n",
    "\n",
    "                # put the class name and confidence on the image\n",
    "                cv2.putText(frame, f'{color_name + \" \" + classes_names[int(box.cls[0])]} {box.conf[0]:.2f}', (x1, y1), cv2.FONT_HERSHEY_SIMPLEX, 1, colour, 2)\n",
    "                \n",
    "    # show the image\n",
    "    cv2.imshow('frame', frame)\n",
    "\n",
    "    # break the loop if 'q' is pressed\n",
    "    if cv2.waitKey(1) & 0xFF == ord('q'):\n",
    "        break\n",
    "\n",
    "# release the video capture and destroy all windows\n",
    "videoCap.release()\n",
    "cv2.destroyAllWindows()"
   ]
  },
  {
   "cell_type": "code",
   "execution_count": null,
   "metadata": {},
   "outputs": [],
   "source": [
    "SENSOR_FN: str = \"\"\"\n",
    "proctype select_{}() {{\n",
    "    int i;\n",
    "    select (i : {}..{});\n",
    "    {} = i;\n",
    "    printf(\"{}: %d\\n\", {});\n",
    "}}\n",
    "\"\"\"\n",
    "SENSOR_FN.format(\"temp\", 29, 31, \"temp\", \"temp\", \"temp\")"
   ]
  },
  {
   "cell_type": "code",
   "execution_count": 1,
   "metadata": {},
   "outputs": [],
   "source": [
    "import spot"
   ]
  },
  {
   "cell_type": "code",
   "execution_count": 2,
   "metadata": {},
   "outputs": [],
   "source": [
    "spot.setup()"
   ]
  },
  {
   "cell_type": "code",
   "execution_count": 487,
   "metadata": {},
   "outputs": [],
   "source": [
    "ltl_formula = \"\"\"<>(MoveToNorthMostTree &&\n",
    "    X(TakeTemperatureReading &&\n",
    "        X(((lowTemp && X(TakeCO2Reading && X(MoveToEnd))) ||\n",
    "           (!lowTemp && X(TakeThermalPicture && X(MoveToEnd)))))))\n",
    "\"\"\""
   ]
  },
  {
   "cell_type": "code",
   "execution_count": 488,
   "metadata": {},
   "outputs": [],
   "source": [
    "a = spot.translate(ltl_formula)"
   ]
  },
  {
   "cell_type": "code",
   "execution_count": 489,
   "metadata": {},
   "outputs": [
    {
     "data": {
      "text/html": [
       "<?xml version=\"1.0\" encoding=\"UTF-8\" standalone=\"no\"?>\n",
       "<!DOCTYPE svg PUBLIC \"-//W3C//DTD SVG 1.1//EN\"\n",
       " \"http://www.w3.org/Graphics/SVG/1.1/DTD/svg11.dtd\">\n",
       "<!-- Generated by graphviz version 2.43.0 (0)\n",
       " -->\n",
       "<!-- Pages: 1 -->\n",
       "<svg width=\"729pt\" height=\"91pt\"\n",
       " viewBox=\"0.00 0.00 729.00 90.52\" xmlns=\"http://www.w3.org/2000/svg\" xmlns:xlink=\"http://www.w3.org/1999/xlink\">\n",
       "<g id=\"graph0\" class=\"graph\" transform=\"scale(0.69 0.69) rotate(0) translate(4 127)\">\n",
       "<polygon fill=\"white\" stroke=\"transparent\" points=\"-4,4 -4,-127 1051,-127 1051,4 -4,4\"/>\n",
       "<text text-anchor=\"start\" x=\"498.5\" y=\"-107.8\" font-family=\"Lato\" font-size=\"14.00\">[Büchi]</text>\n",
       "<!-- I -->\n",
       "<!-- 0 -->\n",
       "<g id=\"node2\" class=\"node\">\n",
       "<title>0</title>\n",
       "<ellipse fill=\"#ffffaa\" stroke=\"black\" cx=\"56\" cy=\"-45\" rx=\"18\" ry=\"18\"/>\n",
       "<text text-anchor=\"middle\" x=\"56\" y=\"-41.3\" font-family=\"Lato\" font-size=\"14.00\">0</text>\n",
       "</g>\n",
       "<!-- I&#45;&gt;0 -->\n",
       "<g id=\"edge1\" class=\"edge\">\n",
       "<title>I&#45;&gt;0</title>\n",
       "<path fill=\"none\" stroke=\"black\" d=\"M1.15,-45C2.79,-45 17.15,-45 30.63,-45\"/>\n",
       "<polygon fill=\"black\" stroke=\"black\" points=\"37.94,-45 30.94,-48.15 34.44,-45 30.94,-45 30.94,-45 30.94,-45 34.44,-45 30.94,-41.85 37.94,-45 37.94,-45\"/>\n",
       "</g>\n",
       "<!-- 0&#45;&gt;0 -->\n",
       "<g id=\"edge2\" class=\"edge\">\n",
       "<title>0&#45;&gt;0</title>\n",
       "<path fill=\"none\" stroke=\"black\" d=\"M49.62,-62.04C48.32,-71.86 50.45,-81 56,-81 60.17,-81 62.4,-75.86 62.71,-69.14\"/>\n",
       "<polygon fill=\"black\" stroke=\"black\" points=\"62.38,-62.04 65.85,-68.88 62.54,-65.53 62.71,-69.03 62.71,-69.03 62.71,-69.03 62.54,-65.53 59.56,-69.18 62.38,-62.04 62.38,-62.04\"/>\n",
       "<text text-anchor=\"start\" x=\"51\" y=\"-84.8\" font-family=\"Lato\" font-size=\"14.00\">1</text>\n",
       "</g>\n",
       "<!-- 1 -->\n",
       "<g id=\"node3\" class=\"node\">\n",
       "<title>1</title>\n",
       "<ellipse fill=\"#ffffaa\" stroke=\"black\" cx=\"280\" cy=\"-45\" rx=\"18\" ry=\"18\"/>\n",
       "<text text-anchor=\"start\" x=\"275\" y=\"-41.3\" font-family=\"Lato\" font-size=\"14.00\">1</text>\n",
       "</g>\n",
       "<!-- 0&#45;&gt;1 -->\n",
       "<g id=\"edge3\" class=\"edge\">\n",
       "<title>0&#45;&gt;1</title>\n",
       "<path fill=\"none\" stroke=\"black\" d=\"M74.05,-45C113.2,-45 209.6,-45 254.83,-45\"/>\n",
       "<polygon fill=\"black\" stroke=\"black\" points=\"261.89,-45 254.89,-48.15 258.39,-45 254.89,-45 254.89,-45 254.89,-45 258.39,-45 254.89,-41.85 261.89,-45 261.89,-45\"/>\n",
       "<text text-anchor=\"start\" x=\"92\" y=\"-48.8\" font-family=\"Lato\" font-size=\"14.00\">MoveToNorthMostTree</text>\n",
       "</g>\n",
       "<!-- 2 -->\n",
       "<g id=\"node4\" class=\"node\">\n",
       "<title>2</title>\n",
       "<ellipse fill=\"#ffffaa\" stroke=\"black\" cx=\"526\" cy=\"-45\" rx=\"18\" ry=\"18\"/>\n",
       "<text text-anchor=\"middle\" x=\"526\" y=\"-41.3\" font-family=\"Lato\" font-size=\"14.00\">2</text>\n",
       "</g>\n",
       "<!-- 1&#45;&gt;2 -->\n",
       "<g id=\"edge4\" class=\"edge\">\n",
       "<title>1&#45;&gt;2</title>\n",
       "<path fill=\"none\" stroke=\"black\" d=\"M298.16,-45C340.77,-45 451.53,-45 500.78,-45\"/>\n",
       "<polygon fill=\"black\" stroke=\"black\" points=\"507.86,-45 500.86,-48.15 504.36,-45 500.86,-45 500.86,-45 500.86,-45 504.36,-45 500.86,-41.85 507.86,-45 507.86,-45\"/>\n",
       "<text text-anchor=\"start\" x=\"316\" y=\"-48.8\" font-family=\"Lato\" font-size=\"14.00\">TakeTemperatureReading</text>\n",
       "</g>\n",
       "<!-- 3 -->\n",
       "<g id=\"node5\" class=\"node\">\n",
       "<title>3</title>\n",
       "<ellipse fill=\"#ffffaa\" stroke=\"black\" cx=\"664\" cy=\"-72\" rx=\"18\" ry=\"18\"/>\n",
       "<text text-anchor=\"middle\" x=\"664\" y=\"-68.3\" font-family=\"Lato\" font-size=\"14.00\">3</text>\n",
       "</g>\n",
       "<!-- 2&#45;&gt;3 -->\n",
       "<g id=\"edge5\" class=\"edge\">\n",
       "<title>2&#45;&gt;3</title>\n",
       "<path fill=\"none\" stroke=\"black\" d=\"M543.95,-48.36C568,-53.14 612.14,-61.9 639.39,-67.31\"/>\n",
       "<polygon fill=\"black\" stroke=\"black\" points=\"646.26,-68.68 638.78,-70.4 642.83,-68 639.4,-67.31 639.4,-67.31 639.4,-67.31 642.83,-68 640.01,-64.22 646.26,-68.68 646.26,-68.68\"/>\n",
       "<text text-anchor=\"start\" x=\"564.5\" y=\"-67.8\" font-family=\"Lato\" font-size=\"14.00\">lowTemp</text>\n",
       "</g>\n",
       "<!-- 4 -->\n",
       "<g id=\"node6\" class=\"node\">\n",
       "<title>4</title>\n",
       "<ellipse fill=\"#ffffaa\" stroke=\"black\" cx=\"664\" cy=\"-18\" rx=\"18\" ry=\"18\"/>\n",
       "<text text-anchor=\"middle\" x=\"664\" y=\"-14.3\" font-family=\"Lato\" font-size=\"14.00\">4</text>\n",
       "</g>\n",
       "<!-- 2&#45;&gt;4 -->\n",
       "<g id=\"edge6\" class=\"edge\">\n",
       "<title>2&#45;&gt;4</title>\n",
       "<path fill=\"none\" stroke=\"black\" d=\"M543.2,-38.76C549.05,-36.68 555.76,-34.52 562,-33 587.92,-26.69 618.28,-22.61 638.89,-20.33\"/>\n",
       "<polygon fill=\"black\" stroke=\"black\" points=\"646.02,-19.56 639.39,-23.44 642.54,-19.94 639.06,-20.31 639.06,-20.31 639.06,-20.31 642.54,-19.94 638.72,-17.18 646.02,-19.56 646.02,-19.56\"/>\n",
       "<text text-anchor=\"start\" x=\"562\" y=\"-36.8\" font-family=\"Lato\" font-size=\"14.00\">!lowTemp</text>\n",
       "</g>\n",
       "<!-- 5 -->\n",
       "<g id=\"node7\" class=\"node\">\n",
       "<title>5</title>\n",
       "<ellipse fill=\"#ffffaa\" stroke=\"black\" cx=\"870\" cy=\"-45\" rx=\"18\" ry=\"18\"/>\n",
       "<text text-anchor=\"middle\" x=\"870\" y=\"-41.3\" font-family=\"Lato\" font-size=\"14.00\">5</text>\n",
       "</g>\n",
       "<!-- 3&#45;&gt;5 -->\n",
       "<g id=\"edge7\" class=\"edge\">\n",
       "<title>3&#45;&gt;5</title>\n",
       "<path fill=\"none\" stroke=\"black\" d=\"M682.04,-69.74C718.27,-64.95 803.02,-53.73 844.82,-48.2\"/>\n",
       "<polygon fill=\"black\" stroke=\"black\" points=\"851.86,-47.27 845.34,-51.31 848.39,-47.73 844.92,-48.19 844.92,-48.19 844.92,-48.19 848.39,-47.73 844.51,-45.06 851.86,-47.27 851.86,-47.27\"/>\n",
       "<text text-anchor=\"start\" x=\"708.5\" y=\"-69.8\" font-family=\"Lato\" font-size=\"14.00\">TakeCO2Reading</text>\n",
       "</g>\n",
       "<!-- 4&#45;&gt;5 -->\n",
       "<g id=\"edge8\" class=\"edge\">\n",
       "<title>4&#45;&gt;5</title>\n",
       "<path fill=\"none\" stroke=\"black\" d=\"M682.05,-17.62C712.83,-17.3 779.54,-18.33 834,-31 838.17,-31.97 842.48,-33.36 846.61,-34.88\"/>\n",
       "<polygon fill=\"black\" stroke=\"black\" points=\"853.3,-37.54 845.63,-37.89 850.05,-36.25 846.79,-34.96 846.79,-34.96 846.79,-34.96 850.05,-36.25 847.96,-32.03 853.3,-37.54 853.3,-37.54\"/>\n",
       "<text text-anchor=\"start\" x=\"700\" y=\"-34.8\" font-family=\"Lato\" font-size=\"14.00\">TakeThermalPicture</text>\n",
       "</g>\n",
       "<!-- 6 -->\n",
       "<g id=\"node8\" class=\"node\">\n",
       "<title>6</title>\n",
       "<ellipse fill=\"#ffffaa\" stroke=\"black\" cx=\"1025\" cy=\"-45\" rx=\"18\" ry=\"18\"/>\n",
       "<ellipse fill=\"none\" stroke=\"black\" cx=\"1025\" cy=\"-45\" rx=\"22\" ry=\"22\"/>\n",
       "<text text-anchor=\"middle\" x=\"1025\" y=\"-41.3\" font-family=\"Lato\" font-size=\"14.00\">6</text>\n",
       "</g>\n",
       "<!-- 5&#45;&gt;6 -->\n",
       "<g id=\"edge9\" class=\"edge\">\n",
       "<title>5&#45;&gt;6</title>\n",
       "<path fill=\"none\" stroke=\"black\" d=\"M888.25,-45C914.37,-45 964.23,-45 995.71,-45\"/>\n",
       "<polygon fill=\"black\" stroke=\"black\" points=\"1002.9,-45 995.9,-48.15 999.4,-45 995.9,-45 995.9,-45 995.9,-45 999.4,-45 995.9,-41.85 1002.9,-45 1002.9,-45\"/>\n",
       "<text text-anchor=\"start\" x=\"906\" y=\"-48.8\" font-family=\"Lato\" font-size=\"14.00\">MoveToEnd</text>\n",
       "</g>\n",
       "<!-- 6&#45;&gt;6 -->\n",
       "<g id=\"edge10\" class=\"edge\">\n",
       "<title>6&#45;&gt;6</title>\n",
       "<path fill=\"none\" stroke=\"black\" d=\"M1011.53,-62.68C1008.02,-74.06 1012.51,-85 1025,-85 1034.86,-85 1039.73,-78.19 1039.62,-69.72\"/>\n",
       "<polygon fill=\"black\" stroke=\"black\" points=\"1038.47,-62.68 1042.71,-69.08 1039.03,-66.14 1039.6,-69.59 1039.6,-69.59 1039.6,-69.59 1039.03,-66.14 1036.49,-70.1 1038.47,-62.68 1038.47,-62.68\"/>\n",
       "<text text-anchor=\"start\" x=\"1020\" y=\"-88.8\" font-family=\"Lato\" font-size=\"14.00\">1</text>\n",
       "</g>\n",
       "</g>\n",
       "</svg>\n"
      ],
      "text/plain": [
       "<spot.jupyter.SVG object>"
      ]
     },
     "execution_count": 489,
     "metadata": {},
     "output_type": "execute_result"
    }
   ],
   "source": [
    "a.show()"
   ]
  },
  {
   "cell_type": "code",
   "execution_count": 498,
   "metadata": {},
   "outputs": [
    {
     "data": {
      "text/plain": [
       "'Prefix:\\n  0\\n  |  MoveToNorthMostTree\\n  1\\n  |  TakeTemperatureReading\\n  2\\n  |  lowTemp\\n  3\\n  |  TakeCO2Reading\\n  5\\n  |  MoveToEnd\\nCycle:\\n  6\\n  |  1\\t{0}\\n'"
      ]
     },
     "execution_count": 498,
     "metadata": {},
     "output_type": "execute_result"
    }
   ],
   "source": [
    "str(a.accepting_run())"
   ]
  },
  {
   "cell_type": "code",
   "execution_count": 499,
   "metadata": {},
   "outputs": [],
   "source": [
    "import random"
   ]
  },
  {
   "cell_type": "code",
   "execution_count": 506,
   "metadata": {},
   "outputs": [],
   "source": [
    "def generate_accepting_run(a):\n",
    "    curr = a.get_init_state_number()\n",
    "    path = []\n",
    "    while not a.state_is_accepting(curr):\n",
    "        edges = [e for e in a.out(curr)]\n",
    "\n",
    "        next = curr\n",
    "        while next == curr:\n",
    "            sel_e = random.choice(edges)\n",
    "            next = sel_e.dst\n",
    "    \n",
    "        # move\n",
    "        curr = next\n",
    "        \n",
    "        path.append(spot.bdd_format_formula(a.get_dict(), sel_e.cond))  \n",
    "        \n",
    "    return \" \".join(path)"
   ]
  },
  {
   "cell_type": "code",
   "execution_count": 507,
   "metadata": {},
   "outputs": [
    {
     "data": {
      "text/plain": [
       "['MoveToNorthMostTree TakeTemperatureReading lowTemp TakeCO2Reading MoveToEnd',\n",
       " 'MoveToNorthMostTree TakeTemperatureReading lowTemp TakeCO2Reading MoveToEnd',\n",
       " 'MoveToNorthMostTree TakeTemperatureReading !lowTemp TakeThermalPicture MoveToEnd',\n",
       " 'MoveToNorthMostTree TakeTemperatureReading lowTemp TakeCO2Reading MoveToEnd',\n",
       " 'MoveToNorthMostTree TakeTemperatureReading lowTemp TakeCO2Reading MoveToEnd']"
      ]
     },
     "execution_count": 507,
     "metadata": {},
     "output_type": "execute_result"
    }
   ],
   "source": [
    "[generate_accepting_run(a) for _ in range(5)]"
   ]
  },
  {
   "cell_type": "code",
   "execution_count": null,
   "metadata": {},
   "outputs": [],
   "source": []
  }
 ],
 "metadata": {
  "kernelspec": {
   "display_name": "Python 3",
   "language": "python",
   "name": "python3"
  },
  "language_info": {
   "codemirror_mode": {
    "name": "ipython",
    "version": 3
   },
   "file_extension": ".py",
   "mimetype": "text/x-python",
   "name": "python",
   "nbconvert_exporter": "python",
   "pygments_lexer": "ipython3",
   "version": "3.11.11"
  }
 },
 "nbformat": 4,
 "nbformat_minor": 2
}
