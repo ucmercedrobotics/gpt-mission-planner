{
 "cells": [
  {
   "cell_type": "code",
   "execution_count": 4,
   "metadata": {},
   "outputs": [],
   "source": [
    "from lxml import etree\n",
    "from dotenv import load_dotenv \n",
    "from openai import OpenAI"
   ]
  },
  {
   "cell_type": "code",
   "execution_count": null,
   "metadata": {},
   "outputs": [],
   "source": [
    "# Read XSD from 1872.1-2024\n",
    "with open('app/resources/context/wheeled_bots/schema.xsd', 'r') as file:\n",
    "    schema = file.read()"
   ]
  },
  {
   "cell_type": "code",
   "execution_count": null,
   "metadata": {},
   "outputs": [],
   "source": [
    "# Read XSD from 1872.1-2024\n",
    "with open('app/resources/context/wheeled_bots/reza_medium.geojson', 'r') as file:\n",
    "    geojson = file.read()"
   ]
  },
  {
   "cell_type": "code",
   "execution_count": null,
   "metadata": {},
   "outputs": [],
   "source": [
    "# global environment config\n",
    "load_dotenv('/Users/marcos/.gpt/token.env')\n",
    "MAX_TOKENS: int = 2000"
   ]
  },
  {
   "cell_type": "code",
   "execution_count": null,
   "metadata": {},
   "outputs": [],
   "source": [
    "client = OpenAI()"
   ]
  },
  {
   "cell_type": "code",
   "execution_count": null,
   "metadata": {},
   "outputs": [],
   "source": [
    "messages = [\n",
    "    {\n",
    "        \"role\": \"system\",\n",
    "        \"content\": \"You are a mission planner that generates XML mission plans based on robotic task representation. \\\n",
    "            When asked to generate a mission, create an XML file conformant to the known schema and use the GeoJSON file to provide references in the mission plan for things such as GPS location, tree type, etc. \\\n",
    "            It must be syntactically correct and validate using an XML linter.\",\n",
    "    },\n",
    "    # context\n",
    "    {\n",
    "        \"role\": \"user\",\n",
    "        \"content\": \"This is the schema for which you must generate mission plan XML documents:\" + schema\n",
    "    },\n",
    "    {\n",
    "        \"role\": \"assistant\",\n",
    "        \"content\": \"If you have any specific questions or modifications you'd like to discuss regarding this schema, feel free to ask!\"\n",
    "    },\n",
    "    {\n",
    "        \"role\": \"user\",\n",
    "        \"content\": \"This is the GeoJSON for which you must generate mission plan XML documents. This is our orchard:\" + geojson\n",
    "    },\n",
    "    {\n",
    "        \"role\": \"assistant\",\n",
    "        \"content\": \"Thank you for providing the GeoJSON file. I'll assist you in creating the XML file for your robotic mission plan when you provide your mission.\"\n",
    "    },\n",
    "    # TODO: add context of farm layout so that machine can generate XML with relevant state information\n",
    "]"
   ]
  },
  {
   "cell_type": "code",
   "execution_count": null,
   "metadata": {},
   "outputs": [],
   "source": [
    "m = \"Make a plan to take a picture of every other pistachio tree.\"\n",
    "message = {\"role\": \"user\", \"content\": m}"
   ]
  },
  {
   "cell_type": "code",
   "execution_count": null,
   "metadata": {},
   "outputs": [],
   "source": [
    "messages.append(message)"
   ]
  },
  {
   "cell_type": "code",
   "execution_count": null,
   "metadata": {},
   "outputs": [],
   "source": [
    "def ask_gpt(messages):\n",
    "    return client.chat.completions.create(\n",
    "        model=\"gpt-4o\", messages=messages, max_tokens=MAX_TOKENS\n",
    "    )"
   ]
  },
  {
   "cell_type": "code",
   "execution_count": null,
   "metadata": {},
   "outputs": [],
   "source": [
    "completion = ask_gpt(messages)"
   ]
  },
  {
   "cell_type": "code",
   "execution_count": null,
   "metadata": {},
   "outputs": [],
   "source": [
    "with open('output.txt', 'w') as fp:\n",
    "    fp.write(completion.choices[0].message.content)"
   ]
  },
  {
   "cell_type": "code",
   "execution_count": null,
   "metadata": {},
   "outputs": [],
   "source": [
    "gpt_response = completion.choices[0].message.content\n",
    "\n",
    "xml_response = gpt_response.split(\"```xml\\n\")[1]\n",
    "xml_response = xml_response.split(\"```\")[0]"
   ]
  },
  {
   "cell_type": "code",
   "execution_count": null,
   "metadata": {},
   "outputs": [],
   "source": [
    "with open('app/gpt_outputs/gpt_example.xml', 'w') as fp:\n",
    "    fp.write(xml_response)"
   ]
  },
  {
   "cell_type": "code",
   "execution_count": 5,
   "metadata": {},
   "outputs": [],
   "source": [
    "def validate_xml(xsd_file, xml_file) -> str:\n",
    "    try:\n",
    "        # Parse the XSD file\n",
    "        with open(xsd_file, 'rb') as schema_file:\n",
    "            schema_root = etree.XML(schema_file.read())\n",
    "        schema = etree.XMLSchema(schema_root)\n",
    "\n",
    "        # Parse the XML file\n",
    "        with open(xml_file, 'rb') as xml_file:\n",
    "            xml_doc = etree.parse(xml_file)\n",
    "\n",
    "        # Validate the XML file against the XSD schema\n",
    "        schema.assertValid(xml_doc)\n",
    "        return \"XML is valid.\"\n",
    "\n",
    "    except etree.XMLSchemaError as e:\n",
    "        return \"XML is invalid: \" + str(e)\n",
    "    except Exception as e:\n",
    "        return \"An error occurred: \" + str(e)"
   ]
  },
  {
   "cell_type": "code",
   "execution_count": null,
   "metadata": {},
   "outputs": [],
   "source": [
    "# messages.append(gpt_response)\n",
    "# Example usage\n",
    "xsd_file = 'app/resources/context/wheeled_bots/schema.xsd'\n",
    "xml_file = 'app/gpt_outputs/gpt_example.xml'\n",
    "ret = validate_xml(xsd_file, xml_file)\n",
    "print(ret)\n",
    "# messages.append(ret)"
   ]
  },
  {
   "cell_type": "code",
   "execution_count": 37,
   "metadata": {},
   "outputs": [],
   "source": [
    "def location(xml_file):\n",
    "    with open(xml_file, \"rb\") as fp:\n",
    "        xml_doc: etree._ElementTree = etree.parse(fp)\n",
    "\n",
    "    root: etree._Element = xml_doc.getroot()\n",
    "    xsi = root.nsmap['xsi']\n",
    "    location = root.attrib['{' + xsi + \"}schemaLocation\"]\n",
    "    return location.split(root.nsmap[None] + \" \")[1]"
   ]
  },
  {
   "cell_type": "code",
   "execution_count": null,
   "metadata": {},
   "outputs": [],
   "source": [
    "# Example usage\n",
    "xml_file = 'app/gpt_outputs/gpt_example.xml'\n",
    "ret = location(xml_file)\n",
    "print(ret)\n",
    "# messages.append(ret)"
   ]
  },
  {
   "cell_type": "markdown",
   "metadata": {},
   "source": [
    "## GeoJSON"
   ]
  },
  {
   "cell_type": "code",
   "execution_count": null,
   "metadata": {},
   "outputs": [],
   "source": [
    "text: str = (\n",
    "    \"\"\"\n",
    "{ \n",
    "\"type\": \"FeatureCollection\",\n",
    "\"features\": [\n",
    "    \"\"\"\n",
    ")\n",
    "\n",
    "gps: str = (\n",
    "    \"\"\"\n",
    "    {{\n",
    "      \"type\": \"Feature\",\n",
    "      \"geometry\": {{\n",
    "        \"type\": \"Point\",\n",
    "        \"coordinates\": [{}, {}]\n",
    "      }},\n",
    "      \"properties\": {{\n",
    "        \"marker-symbol\": \"{}-tree\"\n",
    "      }}\n",
    "    }},\"\"\"\n",
    ")\n",
    "\n",
    "tree_type: str = \"pistachio\"\n",
    "i = 0\n",
    "dir = True\n",
    "tree_num = 0\n",
    "\n",
    "for gps_coord in coors:\n",
    "    out = gps.format(gps_coord[0], gps_coord[1], tree_type)\n",
    "    text += out\n",
    "    i += 1\n",
    "\n",
    "# with open(\"resources/reza_waypoints.txt\", \"r\") as fp:\n",
    "#     for line in fp.readlines():\n",
    "#         gps_coord = line.split(\" \")\n",
    "#         # only want trees\n",
    "#         if gps_coord[2] == 0:\n",
    "#             continue\n",
    "#         if i % 18 == 0:\n",
    "#             dir = ~dir\n",
    "#             tree_num -= 18\n",
    "#         out = gps.format(gps_coord[0], gps_coord[1], tree_type)\n",
    "#         text += out\n",
    "#         i += 1\n",
    "\n",
    "# remove last comma\n",
    "text = text[:-1]\n",
    "text += \"\"\"  \n",
    "  ]\n",
    "}\n",
    "\"\"\"\n",
    "\n",
    "with open(\"app/resources/context/wheeled_bots/ucm20_2m.geojson\", \"w\") as fp:\n",
    "    fp.write(text)"
   ]
  },
  {
   "cell_type": "markdown",
   "metadata": {},
   "source": [
    "## scratchpad"
   ]
  },
  {
   "cell_type": "code",
   "execution_count": null,
   "metadata": {},
   "outputs": [],
   "source": [
    "import utm\n",
    "import json\n",
    "import geopy.distance\n",
    "import haversine"
   ]
  },
  {
   "cell_type": "code",
   "execution_count": null,
   "metadata": {},
   "outputs": [],
   "source": [
    "geojson_data = {}\n",
    "with open(\"app/resources/context/wheeled_bots/ucm_graph20.geojsonl\", \"r\") as fp:\n",
    "    for line in fp:\n",
    "        data = json.loads(line.strip())\n",
    "        geojson_data[data['properties']['id']] = data"
   ]
  },
  {
   "cell_type": "code",
   "execution_count": null,
   "metadata": {},
   "outputs": [],
   "source": [
    "sol = [0, 2, 7, 18, 19]\n",
    "# sol = [0, 2, 15, 18, 29]\n",
    "# sol = [0, 7, 25, 36, 39]\n",
    "cost = 0\n",
    "for s in range(len(sol)-1):\n",
    "    lon1, lat1 = geojson_data[sol[s]]['geometry']['coordinates']\n",
    "    lon2, lat2 = geojson_data[sol[s+1]]['geometry']['coordinates']\n",
    "    # cost += geopy.distance.distance((lat1, lon1), (lat2, lon2)).meters\n",
    "    cost += haversine.haversine((lat1, lon1), (lat2, lon2), unit=haversine.Unit.METERS)"
   ]
  },
  {
   "cell_type": "markdown",
   "metadata": {},
   "source": [
    "budget: 19.9773073572487"
   ]
  },
  {
   "cell_type": "code",
   "execution_count": null,
   "metadata": {},
   "outputs": [],
   "source": [
    "cost"
   ]
  },
  {
   "cell_type": "code",
   "execution_count": null,
   "metadata": {},
   "outputs": [],
   "source": [
    "lon1, lat1 = geojson_data[19]['geometry']['coordinates']\n",
    "lon2, lat2 = geojson_data[18]['geometry']['coordinates']\n",
    "geopy.distance.distance((lat1, lon1), (lat2, lon2)).meters"
   ]
  },
  {
   "cell_type": "code",
   "execution_count": null,
   "metadata": {},
   "outputs": [],
   "source": [
    "13.686394049112627 * (2/1.3694051976193413)"
   ]
  },
  {
   "cell_type": "markdown",
   "metadata": {},
   "source": [
    "## GPS conversion"
   ]
  },
  {
   "cell_type": "code",
   "execution_count": null,
   "metadata": {},
   "outputs": [],
   "source": [
    "from lxml import etree\n",
    "import matplotlib.pyplot as plt\n",
    "import numpy as np\n",
    "import utm"
   ]
  },
  {
   "cell_type": "code",
   "execution_count": null,
   "metadata": {},
   "outputs": [],
   "source": [
    "with open(\"app/resources/context/wheeled_bots/kml/graph20.kml\", \"rb\") as fp:\n",
    "    root = etree.parse(fp)"
   ]
  },
  {
   "cell_type": "code",
   "execution_count": null,
   "metadata": {},
   "outputs": [],
   "source": [
    "root_e: etree._Element = root.getroot()"
   ]
  },
  {
   "cell_type": "code",
   "execution_count": null,
   "metadata": {},
   "outputs": [],
   "source": [
    "ns = \"{\" + root_e.nsmap[None] + \"}\""
   ]
  },
  {
   "cell_type": "code",
   "execution_count": null,
   "metadata": {},
   "outputs": [],
   "source": [
    "pms = root_e.find(ns + \"Document\").findall(ns + \"Placemark\")"
   ]
  },
  {
   "cell_type": "code",
   "execution_count": null,
   "metadata": {},
   "outputs": [],
   "source": [
    "coors = []\n",
    "for pm in pms:\n",
    "    coor = pm.find(ns + \"Point\").find(ns + \"coordinates\").text.split(',')\n",
    "    coor = [float(c) for c in coor]\n",
    "    # print(coor[1])\n",
    "    # e, n, _, _ = utm.from_latlon(coor[1], coor[0])\n",
    "    e = coor[0]\n",
    "    n = coor[1]\n",
    "\n",
    "    coors.append((e, n))"
   ]
  },
  {
   "cell_type": "code",
   "execution_count": null,
   "metadata": {},
   "outputs": [],
   "source": [
    "path = []\n",
    "with open('path.txt', 'r') as fp:\n",
    "    for f in fp:\n",
    "        coor = f.split(',')\n",
    "        coor = [float(c) for c in coor]\n",
    "        e, n, _, _ = utm.from_latlon(coor[1], coor[0])\n",
    "\n",
    "        path.append((e, n))"
   ]
  },
  {
   "cell_type": "code",
   "execution_count": null,
   "metadata": {},
   "outputs": [],
   "source": [
    "def add_arrow(line, position=None, direction='right', size=15, color=None):\n",
    "    \"\"\"\n",
    "    add an arrow to a line.\n",
    "\n",
    "    line:       Line2D object\n",
    "    position:   x-position of the arrow. If None, mean of xdata is taken\n",
    "    direction:  'left' or 'right'\n",
    "    size:       size of the arrow in fontsize points\n",
    "    color:      if None, line color is taken.\n",
    "    \"\"\"\n",
    "    if color is None:\n",
    "        color = line.get_color()\n",
    "\n",
    "    xdata = line.get_xdata()\n",
    "    ydata = line.get_ydata()\n",
    "\n",
    "    if position is None:\n",
    "        position = xdata.mean()\n",
    "    # find closest index\n",
    "    # start_ind = np.argmin(np.absolute(xdata - position))\n",
    "    start_ind = 0\n",
    "    if direction == 'right':\n",
    "        end_ind = start_ind + 1\n",
    "    else:\n",
    "        end_ind = start_ind - 1\n",
    "\n",
    "    line.axes.annotate('',\n",
    "        xytext=(xdata[start_ind], ydata[start_ind]),\n",
    "        xy=(xdata[end_ind], ydata[end_ind]),\n",
    "        arrowprops=dict(arrowstyle=\"->\", color=color),\n",
    "        size=size\n",
    "    )"
   ]
  },
  {
   "cell_type": "code",
   "execution_count": null,
   "metadata": {},
   "outputs": [],
   "source": [
    "coors = np.array(coors)\n",
    "path = np.array(path)\n",
    "\n",
    "img = plt.imread(\"app/resources/context/wheeled_bots/images/img.png\")\n",
    "fig, ax = plt.subplots()\n",
    "\n",
    "# ax.imshow(img, extent=[-0.1, 1, -0.3, 1.25])\n",
    "ax.imshow(img, extent=[np.min(coors[:,0])-0.75, np.max(coors[:,0])+1, np.min(coors[:,1])-0.5, np.max(coors[:,1])+0.5])\n",
    "# ax.imshow(img, extent=[np.min(coors[:,0]), np.max(coors[:,0]), np.min(coors[:,1]), np.max(coors[:,1])])\n",
    "# weights = np.arange(0, len(path[20:-29,0]))\n",
    "for i in range(26, len(path)-11, 1):\n",
    "    line = plt.plot(path[i:i+2,0], path[i:i+2,1], 'black')[0]\n",
    "    if i % 4 == 0:\n",
    "        add_arrow(line, direction='left', color='black', size=20, position=0)\n",
    "plt.scatter(x = coors[0,0], y = coors[0,1], color='green')\n",
    "plt.scatter(x = coors[1:-1,0], y = coors[1:-1,1], color='blue')\n",
    "plt.scatter(x = coors[-1,0], y = coors[-1,1], color='red')\n",
    "plt.axis('off')\n",
    "# plt.show()\n",
    "plt.savefig(\"test.png\",bbox_inches='tight', pad_inches=0.0)"
   ]
  },
  {
   "cell_type": "markdown",
   "metadata": {},
   "source": [
    "## YOLOv8"
   ]
  },
  {
   "cell_type": "code",
   "execution_count": null,
   "metadata": {},
   "outputs": [],
   "source": [
    "import cv2\n",
    "from ultralytics import YOLO\n",
    "import webcolors\n",
    "import numpy as np"
   ]
  },
  {
   "cell_type": "code",
   "execution_count": null,
   "metadata": {},
   "outputs": [],
   "source": [
    "# Function to get class colors\n",
    "def getColours(cls_num):\n",
    "    base_colors = [(255, 0, 0), (0, 255, 0), (0, 0, 255)]\n",
    "    color_index = cls_num % len(base_colors)\n",
    "    increments = [(1, -2, 1), (-2, 1, -1), (1, -1, 2)]\n",
    "    color = [base_colors[color_index][i] + increments[color_index][i] * \n",
    "    (cls_num // len(base_colors)) % 256 for i in range(3)]\n",
    "    return tuple(color)"
   ]
  },
  {
   "cell_type": "code",
   "execution_count": null,
   "metadata": {},
   "outputs": [],
   "source": [
    "def closest_color(requested_color):\n",
    "    min_colors = {}\n",
    "    for name in webcolors.names(\"css3\"):\n",
    "        r_c, g_c, b_c = webcolors.name_to_rgb(name)\n",
    "        distance = ((r_c - requested_color[0]) ** 2 +\n",
    "                    (g_c - requested_color[1]) ** 2 +\n",
    "                    (b_c - requested_color[2]) ** 2)\n",
    "        min_colors[distance] = name\n",
    "    return min_colors[min(min_colors.keys())]"
   ]
  },
  {
   "cell_type": "code",
   "execution_count": null,
   "metadata": {},
   "outputs": [],
   "source": [
    "def rgb_to_name(rgb):\n",
    "    try:\n",
    "        return webcolors.rgb_to_name(rgb)\n",
    "    except ValueError:\n",
    "        return closest_color(rgb)"
   ]
  },
  {
   "cell_type": "code",
   "execution_count": null,
   "metadata": {},
   "outputs": [],
   "source": [
    "yolo = YOLO('yolov8s.pt')"
   ]
  },
  {
   "cell_type": "code",
   "execution_count": null,
   "metadata": {},
   "outputs": [],
   "source": [
    "videoCap = cv2.VideoCapture(0)"
   ]
  },
  {
   "cell_type": "code",
   "execution_count": null,
   "metadata": {},
   "outputs": [],
   "source": [
    "while True:\n",
    "    ret, frame = videoCap.read()\n",
    "    if not ret:\n",
    "        continue\n",
    "    results = yolo.track(frame, stream=True)\n",
    "\n",
    "\n",
    "    for result in results:\n",
    "        # get the classes names\n",
    "        classes_names = result.names\n",
    "    \n",
    "    # iterate over each box\n",
    "        for box in result.boxes:\n",
    "            # check if confidence is greater than 40 percent\n",
    "            if box.conf[0] > 0.4:\n",
    "                # get coordinates\n",
    "                [x1, y1, x2, y2] = box.xyxy[0]\n",
    "                # convert to int\n",
    "                x1, y1, x2, y2 = int(x1), int(y1), int(x2), int(y2)\n",
    "\n",
    "                # get the class\n",
    "                cls = int(box.cls[0])\n",
    "\n",
    "                # get the class name\n",
    "                class_name = classes_names[cls]\n",
    "\n",
    "                # get the respective colour\n",
    "                colour = getColours(cls)\n",
    "\n",
    "                # draw the rectangle\n",
    "                cv2.rectangle(frame, (x1, y1), (x2, y2), colour, 2)\n",
    "\n",
    "                roi = frame[y1:y2, x1:x2]\n",
    "\n",
    "                average_color = np.mean(roi, axis=(0, 1))  # [R, G, B]\n",
    "                color_name = rgb_to_name(tuple(map(int, average_color)))\n",
    "\n",
    "                # put the class name and confidence on the image\n",
    "                cv2.putText(frame, f'{color_name + \" \" + classes_names[int(box.cls[0])]} {box.conf[0]:.2f}', (x1, y1), cv2.FONT_HERSHEY_SIMPLEX, 1, colour, 2)\n",
    "                \n",
    "    # show the image\n",
    "    cv2.imshow('frame', frame)\n",
    "\n",
    "    # break the loop if 'q' is pressed\n",
    "    if cv2.waitKey(1) & 0xFF == ord('q'):\n",
    "        break\n",
    "\n",
    "# release the video capture and destroy all windows\n",
    "videoCap.release()\n",
    "cv2.destroyAllWindows()"
   ]
  },
  {
   "cell_type": "code",
   "execution_count": null,
   "metadata": {},
   "outputs": [],
   "source": [
    "SENSOR_FN: str = \"\"\"\n",
    "proctype select_{}() {{\n",
    "    int i;\n",
    "    select (i : {}..{});\n",
    "    {} = i;\n",
    "    printf(\"{}: %d\\n\", {});\n",
    "}}\n",
    "\"\"\"\n",
    "SENSOR_FN.format(\"temp\", 29, 31, \"temp\", \"temp\", \"temp\")"
   ]
  },
  {
   "cell_type": "code",
   "execution_count": 1,
   "metadata": {},
   "outputs": [],
   "source": [
    "import spot"
   ]
  },
  {
   "cell_type": "code",
   "execution_count": 2,
   "metadata": {},
   "outputs": [],
   "source": [
    "spot.setup()"
   ]
  },
  {
   "cell_type": "code",
   "execution_count": 3,
   "metadata": {},
   "outputs": [],
   "source": [
    "ltl_formula = \"\"\"         <>(MoveToNorthMostTree &&\n",
    "        X(TakeTemperatureReading &&\n",
    "            X((lowTemp -> X(TakeCO2Reading)) &&\n",
    "              (highTemp -> X(TakeThermalPicture)) &&\n",
    "            X(MoveToEnd))))\n",
    "\"\"\""
   ]
  },
  {
   "cell_type": "code",
   "execution_count": 4,
   "metadata": {},
   "outputs": [],
   "source": [
    "a = spot.translate(ltl_formula)"
   ]
  },
  {
   "cell_type": "code",
   "execution_count": 5,
   "metadata": {},
   "outputs": [
    {
     "data": {
      "text/html": [
       "<?xml version=\"1.0\" encoding=\"UTF-8\" standalone=\"no\"?>\n",
       "<!DOCTYPE svg PUBLIC \"-//W3C//DTD SVG 1.1//EN\"\n",
       " \"http://www.w3.org/Graphics/SVG/1.1/DTD/svg11.dtd\">\n",
       "<!-- Generated by graphviz version 2.43.0 (0)\n",
       " -->\n",
       "<!-- Pages: 1 -->\n",
       "<svg width=\"729pt\" height=\"141pt\"\n",
       " viewBox=\"0.00 0.00 729.00 140.84\" xmlns=\"http://www.w3.org/2000/svg\" xmlns:xlink=\"http://www.w3.org/1999/xlink\">\n",
       "<g id=\"graph0\" class=\"graph\" transform=\"scale(0.58 0.58) rotate(0) translate(4 237.89)\">\n",
       "<polygon fill=\"white\" stroke=\"transparent\" points=\"-4,4 -4,-237.89 1248.05,-237.89 1248.05,4 -4,4\"/>\n",
       "<text text-anchor=\"start\" x=\"597.03\" y=\"-218.69\" font-family=\"Lato\" font-size=\"14.00\">[Büchi]</text>\n",
       "<!-- I -->\n",
       "<!-- 0 -->\n",
       "<g id=\"node2\" class=\"node\">\n",
       "<title>0</title>\n",
       "<ellipse fill=\"#ffffaa\" stroke=\"black\" cx=\"56\" cy=\"-103.89\" rx=\"18\" ry=\"18\"/>\n",
       "<text text-anchor=\"middle\" x=\"56\" y=\"-100.19\" font-family=\"Lato\" font-size=\"14.00\">0</text>\n",
       "</g>\n",
       "<!-- I&#45;&gt;0 -->\n",
       "<g id=\"edge1\" class=\"edge\">\n",
       "<title>I&#45;&gt;0</title>\n",
       "<path fill=\"none\" stroke=\"black\" d=\"M1.15,-103.89C2.79,-103.89 17.15,-103.89 30.63,-103.89\"/>\n",
       "<polygon fill=\"black\" stroke=\"black\" points=\"37.94,-103.89 30.94,-107.04 34.44,-103.89 30.94,-103.89 30.94,-103.89 30.94,-103.89 34.44,-103.89 30.94,-100.74 37.94,-103.89 37.94,-103.89\"/>\n",
       "</g>\n",
       "<!-- 0&#45;&gt;0 -->\n",
       "<g id=\"edge2\" class=\"edge\">\n",
       "<title>0&#45;&gt;0</title>\n",
       "<path fill=\"none\" stroke=\"black\" d=\"M49.62,-120.93C48.32,-130.75 50.45,-139.89 56,-139.89 60.17,-139.89 62.4,-134.75 62.71,-128.03\"/>\n",
       "<polygon fill=\"black\" stroke=\"black\" points=\"62.38,-120.93 65.85,-127.77 62.54,-124.42 62.71,-127.92 62.71,-127.92 62.71,-127.92 62.54,-124.42 59.56,-128.07 62.38,-120.93 62.38,-120.93\"/>\n",
       "<text text-anchor=\"start\" x=\"51\" y=\"-143.69\" font-family=\"Lato\" font-size=\"14.00\">1</text>\n",
       "</g>\n",
       "<!-- 1 -->\n",
       "<g id=\"node3\" class=\"node\">\n",
       "<title>1</title>\n",
       "<ellipse fill=\"#ffffaa\" stroke=\"black\" cx=\"280\" cy=\"-103.89\" rx=\"18\" ry=\"18\"/>\n",
       "<text text-anchor=\"start\" x=\"275\" y=\"-100.19\" font-family=\"Lato\" font-size=\"14.00\">1</text>\n",
       "</g>\n",
       "<!-- 0&#45;&gt;1 -->\n",
       "<g id=\"edge3\" class=\"edge\">\n",
       "<title>0&#45;&gt;1</title>\n",
       "<path fill=\"none\" stroke=\"black\" d=\"M74.05,-103.89C113.2,-103.89 209.6,-103.89 254.83,-103.89\"/>\n",
       "<polygon fill=\"black\" stroke=\"black\" points=\"261.89,-103.89 254.89,-107.04 258.39,-103.89 254.89,-103.89 254.89,-103.89 254.89,-103.89 258.39,-103.89 254.89,-100.74 261.89,-103.89 261.89,-103.89\"/>\n",
       "<text text-anchor=\"start\" x=\"92\" y=\"-107.69\" font-family=\"Lato\" font-size=\"14.00\">MoveToNorthMostTree</text>\n",
       "</g>\n",
       "<!-- 2 -->\n",
       "<g id=\"node4\" class=\"node\">\n",
       "<title>2</title>\n",
       "<ellipse fill=\"#ffffaa\" stroke=\"black\" cx=\"526\" cy=\"-103.89\" rx=\"18\" ry=\"18\"/>\n",
       "<text text-anchor=\"middle\" x=\"526\" y=\"-100.19\" font-family=\"Lato\" font-size=\"14.00\">2</text>\n",
       "</g>\n",
       "<!-- 1&#45;&gt;2 -->\n",
       "<g id=\"edge4\" class=\"edge\">\n",
       "<title>1&#45;&gt;2</title>\n",
       "<path fill=\"none\" stroke=\"black\" d=\"M298.16,-103.89C340.77,-103.89 451.53,-103.89 500.78,-103.89\"/>\n",
       "<polygon fill=\"black\" stroke=\"black\" points=\"507.86,-103.89 500.86,-107.04 504.36,-103.89 500.86,-103.89 500.86,-103.89 500.86,-103.89 504.36,-103.89 500.86,-100.74 507.86,-103.89 507.86,-103.89\"/>\n",
       "<text text-anchor=\"start\" x=\"316\" y=\"-107.69\" font-family=\"Lato\" font-size=\"14.00\">TakeTemperatureReading</text>\n",
       "</g>\n",
       "<!-- 3 -->\n",
       "<g id=\"node5\" class=\"node\">\n",
       "<title>3</title>\n",
       "<ellipse fill=\"#ffffaa\" stroke=\"black\" cx=\"757\" cy=\"-184.89\" rx=\"18\" ry=\"18\"/>\n",
       "<text text-anchor=\"middle\" x=\"757\" y=\"-181.19\" font-family=\"Lato\" font-size=\"14.00\">3</text>\n",
       "</g>\n",
       "<!-- 2&#45;&gt;3 -->\n",
       "<g id=\"edge5\" class=\"edge\">\n",
       "<title>2&#45;&gt;3</title>\n",
       "<path fill=\"none\" stroke=\"black\" d=\"M536.19,-119C542.39,-127.9 551.36,-138.6 562,-144.89 616.54,-177.12 693.04,-183.68 731.66,-184.82\"/>\n",
       "<polygon fill=\"black\" stroke=\"black\" points=\"738.86,-184.98 731.79,-187.97 735.36,-184.9 731.86,-184.82 731.86,-184.82 731.86,-184.82 735.36,-184.9 731.93,-181.68 738.86,-184.98 738.86,-184.98\"/>\n",
       "<text text-anchor=\"start\" x=\"562\" y=\"-187.69\" font-family=\"Lato\" font-size=\"14.00\">!highTemp &amp; !lowTemp</text>\n",
       "</g>\n",
       "<!-- 4 -->\n",
       "<g id=\"node6\" class=\"node\">\n",
       "<title>4</title>\n",
       "<ellipse fill=\"#ffffaa\" stroke=\"black\" cx=\"757\" cy=\"-130.89\" rx=\"18\" ry=\"18\"/>\n",
       "<text text-anchor=\"middle\" x=\"757\" y=\"-127.19\" font-family=\"Lato\" font-size=\"14.00\">4</text>\n",
       "</g>\n",
       "<!-- 2&#45;&gt;4 -->\n",
       "<g id=\"edge6\" class=\"edge\">\n",
       "<title>2&#45;&gt;4</title>\n",
       "<path fill=\"none\" stroke=\"black\" d=\"M544.21,-105.92C584.59,-110.68 685.51,-122.58 731.93,-128.05\"/>\n",
       "<polygon fill=\"black\" stroke=\"black\" points=\"738.9,-128.87 731.58,-131.18 735.42,-128.46 731.95,-128.05 731.95,-128.05 731.95,-128.05 735.42,-128.46 732.32,-124.92 738.9,-128.87 738.9,-128.87\"/>\n",
       "<text text-anchor=\"start\" x=\"564.5\" y=\"-129.69\" font-family=\"Lato\" font-size=\"14.00\">highTemp &amp; !lowTemp</text>\n",
       "</g>\n",
       "<!-- 5 -->\n",
       "<g id=\"node7\" class=\"node\">\n",
       "<title>5</title>\n",
       "<ellipse fill=\"#ffffaa\" stroke=\"black\" cx=\"757\" cy=\"-76.89\" rx=\"18\" ry=\"18\"/>\n",
       "<text text-anchor=\"middle\" x=\"757\" y=\"-73.19\" font-family=\"Lato\" font-size=\"14.00\">5</text>\n",
       "</g>\n",
       "<!-- 2&#45;&gt;5 -->\n",
       "<g id=\"edge7\" class=\"edge\">\n",
       "<title>2&#45;&gt;5</title>\n",
       "<path fill=\"none\" stroke=\"black\" d=\"M542.29,-95.99C548.28,-93.25 555.31,-90.48 562,-88.89 621.61,-74.72 694.26,-74.61 731.46,-75.75\"/>\n",
       "<polygon fill=\"black\" stroke=\"black\" points=\"738.85,-76.01 731.74,-78.91 735.35,-75.88 731.85,-75.76 731.85,-75.76 731.85,-75.76 735.35,-75.88 731.96,-72.62 738.85,-76.01 738.85,-76.01\"/>\n",
       "<text text-anchor=\"start\" x=\"564.5\" y=\"-92.69\" font-family=\"Lato\" font-size=\"14.00\">!highTemp &amp; lowTemp</text>\n",
       "</g>\n",
       "<!-- 6 -->\n",
       "<g id=\"node8\" class=\"node\">\n",
       "<title>6</title>\n",
       "<ellipse fill=\"#ffffaa\" stroke=\"black\" cx=\"757\" cy=\"-22.89\" rx=\"18\" ry=\"18\"/>\n",
       "<text text-anchor=\"middle\" x=\"757\" y=\"-19.19\" font-family=\"Lato\" font-size=\"14.00\">6</text>\n",
       "</g>\n",
       "<!-- 2&#45;&gt;6 -->\n",
       "<g id=\"edge8\" class=\"edge\">\n",
       "<title>2&#45;&gt;6</title>\n",
       "<path fill=\"none\" stroke=\"black\" d=\"M534.49,-87.94C540.41,-77.14 549.73,-63.49 562,-55.89 615.64,-22.66 692.85,-20.2 731.71,-21.41\"/>\n",
       "<polygon fill=\"black\" stroke=\"black\" points=\"738.95,-21.69 731.84,-24.57 735.46,-21.56 731.96,-21.42 731.96,-21.42 731.96,-21.42 735.46,-21.56 732.08,-18.27 738.95,-21.69 738.95,-21.69\"/>\n",
       "<text text-anchor=\"start\" x=\"567.5\" y=\"-59.69\" font-family=\"Lato\" font-size=\"14.00\">highTemp &amp; lowTemp</text>\n",
       "</g>\n",
       "<!-- 7 -->\n",
       "<g id=\"node9\" class=\"node\">\n",
       "<title>7</title>\n",
       "<ellipse fill=\"#ffffaa\" stroke=\"black\" cx=\"1202\" cy=\"-103.89\" rx=\"18\" ry=\"18\"/>\n",
       "<ellipse fill=\"none\" stroke=\"black\" cx=\"1202\" cy=\"-103.89\" rx=\"22\" ry=\"22\"/>\n",
       "<text text-anchor=\"middle\" x=\"1202\" y=\"-100.19\" font-family=\"Lato\" font-size=\"14.00\">7</text>\n",
       "</g>\n",
       "<!-- 3&#45;&gt;7 -->\n",
       "<g id=\"edge9\" class=\"edge\">\n",
       "<title>3&#45;&gt;7</title>\n",
       "<path fill=\"none\" stroke=\"black\" d=\"M774.94,-187.44C832.76,-195.31 1026.23,-214.83 1162,-146.89 1170.76,-142.5 1178.49,-135.25 1184.71,-127.93\"/>\n",
       "<polygon fill=\"black\" stroke=\"black\" points=\"1189.17,-122.38 1187.25,-129.81 1186.98,-125.11 1184.79,-127.84 1184.79,-127.84 1184.79,-127.84 1186.98,-125.11 1182.33,-125.87 1189.17,-122.38 1189.17,-122.38\"/>\n",
       "<text text-anchor=\"start\" x=\"938\" y=\"-199.69\" font-family=\"Lato\" font-size=\"14.00\">MoveToEnd</text>\n",
       "</g>\n",
       "<!-- 4&#45;&gt;7 -->\n",
       "<g id=\"edge10\" class=\"edge\">\n",
       "<title>4&#45;&gt;7</title>\n",
       "<path fill=\"none\" stroke=\"black\" d=\"M775.09,-129.85C842.31,-125.75 1088.88,-110.72 1172.81,-105.61\"/>\n",
       "<polygon fill=\"black\" stroke=\"black\" points=\"1179.95,-105.17 1173.16,-108.74 1176.46,-105.38 1172.97,-105.6 1172.97,-105.6 1172.97,-105.6 1176.46,-105.38 1172.78,-102.45 1179.95,-105.17 1179.95,-105.17\"/>\n",
       "<text text-anchor=\"start\" x=\"861.5\" y=\"-131.69\" font-family=\"Lato\" font-size=\"14.00\">MoveToEnd &amp; TakeThermalPicture</text>\n",
       "</g>\n",
       "<!-- 5&#45;&gt;7 -->\n",
       "<g id=\"edge11\" class=\"edge\">\n",
       "<title>5&#45;&gt;7</title>\n",
       "<path fill=\"none\" stroke=\"black\" d=\"M775.22,-74.99C831.59,-69.25 1015.41,-54.43 1162,-86.89 1166.45,-87.87 1171.02,-89.37 1175.39,-91.08\"/>\n",
       "<polygon fill=\"black\" stroke=\"black\" points=\"1182.06,-93.89 1174.38,-94.07 1178.83,-92.53 1175.61,-91.17 1175.61,-91.17 1175.61,-91.17 1178.83,-92.53 1176.83,-88.26 1182.06,-93.89 1182.06,-93.89\"/>\n",
       "<text text-anchor=\"start\" x=\"870\" y=\"-90.69\" font-family=\"Lato\" font-size=\"14.00\">MoveToEnd &amp; TakeCO2Reading</text>\n",
       "</g>\n",
       "<!-- 6&#45;&gt;7 -->\n",
       "<g id=\"edge12\" class=\"edge\">\n",
       "<title>6&#45;&gt;7</title>\n",
       "<path fill=\"none\" stroke=\"black\" d=\"M774.83,-18.99C833.11,-6.44 1029.92,27.87 1162,-46.89 1174.06,-53.72 1183.18,-66 1189.56,-77.42\"/>\n",
       "<polygon fill=\"black\" stroke=\"black\" points=\"1192.82,-83.64 1186.78,-78.9 1191.19,-80.54 1189.57,-77.44 1189.57,-77.44 1189.57,-77.44 1191.19,-80.54 1192.36,-75.97 1192.82,-83.64 1192.82,-83.64\"/>\n",
       "<text text-anchor=\"start\" x=\"793\" y=\"-50.69\" font-family=\"Lato\" font-size=\"14.00\">MoveToEnd &amp; TakeCO2Reading &amp; TakeThermalPicture</text>\n",
       "</g>\n",
       "<!-- 7&#45;&gt;7 -->\n",
       "<g id=\"edge13\" class=\"edge\">\n",
       "<title>7&#45;&gt;7</title>\n",
       "<path fill=\"none\" stroke=\"black\" d=\"M1180.76,-110.58C1147.23,-124.55 1154.31,-143.89 1202,-143.89 1246.33,-143.89 1255.57,-127.18 1229.71,-113.6\"/>\n",
       "<polygon fill=\"black\" stroke=\"black\" points=\"1223.24,-110.58 1230.91,-110.68 1226.41,-112.06 1229.58,-113.54 1229.58,-113.54 1229.58,-113.54 1226.41,-112.06 1228.25,-116.39 1223.24,-110.58 1223.24,-110.58\"/>\n",
       "<text text-anchor=\"start\" x=\"1197\" y=\"-147.69\" font-family=\"Lato\" font-size=\"14.00\">1</text>\n",
       "</g>\n",
       "</g>\n",
       "</svg>\n"
      ],
      "text/plain": [
       "<spot.jupyter.SVG object>"
      ]
     },
     "execution_count": 5,
     "metadata": {},
     "output_type": "execute_result"
    }
   ],
   "source": [
    "a.show()"
   ]
  },
  {
   "cell_type": "code",
   "execution_count": 27,
   "metadata": {},
   "outputs": [],
   "source": [
    "aut = '/gpt-mission-planner/too_long.aut'"
   ]
  },
  {
   "cell_type": "code",
   "execution_count": null,
   "metadata": {},
   "outputs": [],
   "source": [
    "a.save(aut, append=False)"
   ]
  },
  {
   "cell_type": "code",
   "execution_count": null,
   "metadata": {},
   "outputs": [],
   "source": [
    "for a in spot.automata(aut):\n",
    "    display(a)"
   ]
  },
  {
   "cell_type": "code",
   "execution_count": 6,
   "metadata": {},
   "outputs": [
    {
     "data": {
      "text/plain": [
       "'Prefix:\\n  0\\n  |  MoveToNorthMostTree\\n  1\\n  |  TakeTemperatureReading\\n  2\\n  |  !highTemp & !lowTemp\\n  3\\n  |  MoveToEnd\\nCycle:\\n  7\\n  |  1\\t{0}\\n'"
      ]
     },
     "execution_count": 6,
     "metadata": {},
     "output_type": "execute_result"
    }
   ],
   "source": [
    "str(a.accepting_run())"
   ]
  },
  {
   "cell_type": "code",
   "execution_count": 61,
   "metadata": {},
   "outputs": [],
   "source": [
    "a"
   ]
  },
  {
   "cell_type": "code",
   "execution_count": 46,
   "metadata": {},
   "outputs": [],
   "source": [
    "import subprocess\n",
    "import random"
   ]
  },
  {
   "cell_type": "code",
   "execution_count": 2,
   "metadata": {},
   "outputs": [],
   "source": [
    "try:\n",
    "    out = subprocess.check_output(\n",
    "            ['spin', '-search', '-a', '/gpt-mission-planner/app/gpt_outputs/iros_experiments/4o/bias.promela']\n",
    "        )\n",
    "except subprocess.CalledProcessError as err:\n",
    "    ret = err.returncode\n",
    "    out = err.output"
   ]
  },
  {
   "cell_type": "code",
   "execution_count": null,
   "metadata": {},
   "outputs": [],
   "source": [
    "ret"
   ]
  },
  {
   "cell_type": "code",
   "execution_count": null,
   "metadata": {},
   "outputs": [],
   "source": []
  }
 ],
 "metadata": {
  "kernelspec": {
   "display_name": "Python 3",
   "language": "python",
   "name": "python3"
  },
  "language_info": {
   "codemirror_mode": {
    "name": "ipython",
    "version": 3
   },
   "file_extension": ".py",
   "mimetype": "text/x-python",
   "name": "python",
   "nbconvert_exporter": "python",
   "pygments_lexer": "ipython3",
   "version": "3.11.11"
  }
 },
 "nbformat": 4,
 "nbformat_minor": 2
}
